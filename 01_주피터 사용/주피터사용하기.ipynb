{
 "cells": [
  {
   "cell_type": "markdown",
   "metadata": {},
   "source": [
    "### 단축키\n",
    "\n",
    "- enter : edit mode - 셀 입력 모드 \n",
    "- esc : command mode - 셀 관리 가능 모드 \n",
    "\n",
    "### edit mode \n",
    "- control + shift + - : 현재 위치를 기준으로 셀을 나눈다.\n",
    "\n",
    "### command mode\n",
    "- 방향키 위,아래 : 셀 이동\n",
    "- a : 현재 셀 상단에 셀 추가, 추가된 셀로 이동\n",
    "- b : 현재 셀 하단에 셀 추가, 추가된 셀로 이동\n",
    "- dd : 현재 셀 삭제\n",
    "- shift + m : 현재 셀과 하단의 셀 병합\n",
    "- y : code 모드로 변경\n",
    "- m : markdown 모드로 변경\n",
    "### 셀 실행\n",
    "- shift + enter : 현재 셀 실행"
   ]
  },
  {
   "cell_type": "markdown",
   "metadata": {},
   "source": [
    "# 제목1\n",
    "## 제목2\n",
    "### 제목3\n",
    "#### 제목4\n",
    "##### 제목5\n",
    "###### 제목6"
   ]
  },
  {
   "cell_type": "markdown",
   "metadata": {},
   "source": [
    "동해물과 <span style='color:red'>백두산이 마르고 닳도록</span> "
   ]
  },
  {
   "cell_type": "markdown",
   "metadata": {},
   "source": []
  }
 ],
 "metadata": {
  "kernelspec": {
   "display_name": "Python 3",
   "language": "python",
   "name": "python3"
  },
  "language_info": {
   "codemirror_mode": {
    "name": "ipython",
    "version": 3
   },
   "file_extension": ".py",
   "mimetype": "text/x-python",
   "name": "python",
   "nbconvert_exporter": "python",
   "pygments_lexer": "ipython3",
   "version": "3.7.6"
  }
 },
 "nbformat": 4,
 "nbformat_minor": 4
}
