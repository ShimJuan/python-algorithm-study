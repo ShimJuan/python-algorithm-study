{
 "cells": [
  {
   "cell_type": "code",
   "execution_count": 1,
   "metadata": {},
   "outputs": [],
   "source": [
    "import numpy as np"
   ]
  },
  {
   "cell_type": "code",
   "execution_count": 3,
   "metadata": {},
   "outputs": [],
   "source": [
    "array1 = np.array([1, 2, 3])\n",
    "array2 = np.array([[1, 2, 3], [4, 5, 6]])"
   ]
  },
  {
   "cell_type": "code",
   "execution_count": 4,
   "metadata": {},
   "outputs": [
    {
     "name": "stdout",
     "output_type": "stream",
     "text": [
      "array1의 차원 수 : 1\n",
      "array1의 행열 수 : (3,)\n",
      "array2의 차원 수 : 2\n",
      "array2의 행열 수 : (2, 3)\n"
     ]
    }
   ],
   "source": [
    "print(f'array1의 차원 수 : {array1.ndim}')\n",
    "print(f'array1의 행열 수 : {array1.shape}')\n",
    "print(f'array2의 차원 수 : {array2.ndim}')\n",
    "print(f'array2의 행열 수 : {array2.shape}')"
   ]
  },
  {
   "cell_type": "markdown",
   "metadata": {},
   "source": [
    "### 배열의 인덱싱"
   ]
  },
  {
   "cell_type": "code",
   "execution_count": 6,
   "metadata": {},
   "outputs": [],
   "source": [
    "list1 = [10 ,20, 30, 40, 50]\n",
    "list2 = [[10, 20, 30], [40, 50, 60]]\n",
    "array1 = np.array([10, 20, 30, 40, 50])\n",
    "array2 = np.array([[10, 20, 30],[40, 50, 60]])"
   ]
  },
  {
   "cell_type": "code",
   "execution_count": 9,
   "metadata": {},
   "outputs": [
    {
     "name": "stdout",
     "output_type": "stream",
     "text": [
      "10\n",
      "10\n",
      "30\n",
      "30\n",
      "50\n",
      "50\n",
      "30\n",
      "30\n"
     ]
    }
   ],
   "source": [
    "# 0번째 값을 가지고 온다\n",
    "print(list1[0])\n",
    "print(array1[0])\n",
    "# 2번째 값을 가지고 온다.\n",
    "print(list1[2])\n",
    "print(array1[2])\n",
    "# -1번째 값을 가지고 온다.\n",
    "print(list1[-1])\n",
    "print(array1[-1])\n",
    "# -3번째 값을 가지고 온다\n",
    "print(list1[-3])\n",
    "print(array1[-3])"
   ]
  },
  {
   "cell_type": "code",
   "execution_count": 13,
   "metadata": {},
   "outputs": [
    {
     "name": "stdout",
     "output_type": "stream",
     "text": [
      "10\n",
      "10\n",
      "60\n",
      "60\n",
      "60\n",
      "60\n"
     ]
    }
   ],
   "source": [
    "# 0행 0열 값을 가져온다.\n",
    "print(list2[0][0])\n",
    "print(array2[0, 0])\n",
    "# 1행 2열 값을 가져온다\n",
    "print(list2[1][2])\n",
    "print(array2[1, 2])\n",
    "# 마지막행 마지막열의 값을 가져온다\n",
    "print(list2[-1][-1])\n",
    "print(array2[-1, -1])"
   ]
  },
  {
   "cell_type": "code",
   "execution_count": 20,
   "metadata": {},
   "outputs": [
    {
     "name": "stdout",
     "output_type": "stream",
     "text": [
      "[10 30 50]\n"
     ]
    }
   ],
   "source": [
    "# True Fals를 이용한 값 가져오기\n",
    "# []안에 True와 Flase가 값인 행렬을 넣어주면 True 자리에 해당하는 값만 가져온다.\n",
    "array3 = np.array([True, False, True, False, True])\n",
    "print(array1[array3])"
   ]
  },
  {
   "cell_type": "code",
   "execution_count": 15,
   "metadata": {},
   "outputs": [
    {
     "name": "stdout",
     "output_type": "stream",
     "text": [
      "[10 30 50]\n"
     ]
    }
   ],
   "source": [
    "array4 = np.array([[True, False, True,],[False, True, False]])\n",
    "print(array2[array4])"
   ]
  },
  {
   "cell_type": "code",
   "execution_count": 18,
   "metadata": {},
   "outputs": [
    {
     "name": "stdout",
     "output_type": "stream",
     "text": [
      "[10 20 30 40 50]\n",
      "[False False  True  True  True]\n",
      "[30 40 50]\n"
     ]
    }
   ],
   "source": [
    "# array1에서 20보다 큰 값만 가져온다.\n",
    "print(array1)\n",
    "print(array1 > 20)\n",
    "print(array1[array1 >20])"
   ]
  },
  {
   "cell_type": "markdown",
   "metadata": {},
   "source": [
    "### 배열 슬라이싱(일부만 가져옴)"
   ]
  },
  {
   "cell_type": "code",
   "execution_count": 21,
   "metadata": {},
   "outputs": [],
   "source": [
    "list1 = [10, 20, 30, 40, 50]\n",
    "list2 = [[10, 20, 30], [40, 50, 60]]\n",
    "array1 = np.array([10, 20, 30, 40, 50])\n",
    "array2 = np.array([[10, 20, 30], [40, 50, 60]])"
   ]
  },
  {
   "cell_type": "code",
   "execution_count": 22,
   "metadata": {},
   "outputs": [
    {
     "name": "stdout",
     "output_type": "stream",
     "text": [
      "[20, 30, 40]\n",
      "[[10, 20, 30]]\n"
     ]
    }
   ],
   "source": [
    "# 일부만 가져온다\n",
    "# 시작 인덱스 : 끝 인덱스 -1\n",
    "print(list1[1:4])\n",
    "print(list2[0:1][0:1])"
   ]
  },
  {
   "cell_type": "code",
   "execution_count": 23,
   "metadata": {},
   "outputs": [
    {
     "name": "stdout",
     "output_type": "stream",
     "text": [
      "[20 30 40]\n"
     ]
    }
   ],
   "source": [
    "print(array1[1:4])"
   ]
  },
  {
   "cell_type": "code",
   "execution_count": 24,
   "metadata": {},
   "outputs": [
    {
     "name": "stdout",
     "output_type": "stream",
     "text": [
      "[10 20 30]\n",
      "[20 30 40 50]\n"
     ]
    }
   ],
   "source": [
    "# 처음부터 3 -1까지\n",
    "print(array1[:3])\n",
    "# 1 ~ 끝까지\n",
    "print(array1[1:])"
   ]
  },
  {
   "cell_type": "code",
   "execution_count": 26,
   "metadata": {},
   "outputs": [],
   "source": [
    "array3 = np.array([\n",
    "    [1, 2, 3, 4, 5], \n",
    "    [6, 7, 8, 9, 10], \n",
    "    [11, 12, 13, 14, 15], \n",
    "    [16, 17, 18 ,19 ,20],\n",
    "    [21, 22, 23, 24, 25]\n",
    "])"
   ]
  },
  {
   "cell_type": "code",
   "execution_count": 27,
   "metadata": {},
   "outputs": [
    {
     "name": "stdout",
     "output_type": "stream",
     "text": [
      "[[ 7  8  9]\n",
      " [12 13 14]\n",
      " [17 18 19]]\n"
     ]
    }
   ],
   "source": [
    "# 1~ 4-1 행, 1 ~ 4-1열\n",
    "print(array3[1:4, 1:4])"
   ]
  },
  {
   "cell_type": "code",
   "execution_count": 28,
   "metadata": {},
   "outputs": [
    {
     "name": "stdout",
     "output_type": "stream",
     "text": [
      "[[ 2  3  4  5]\n",
      " [ 7  8  9 10]\n",
      " [12 13 14 15]\n",
      " [17 18 19 20]]\n"
     ]
    }
   ],
   "source": [
    "# 0 ~ 4-1행, 1 ~ 끝 열\n",
    "print(array3[:4, 1:])"
   ]
  },
  {
   "cell_type": "code",
   "execution_count": 33,
   "metadata": {},
   "outputs": [
    {
     "name": "stdout",
     "output_type": "stream",
     "text": [
      "[ 6  7  8  9 10]\n",
      "[[ 6  7  8  9 10]\n",
      " [11 12 13 14 15]\n",
      " [16 17 18 19 20]]\n",
      "[ 3  8 13 18 23]\n",
      "[ 6  7  8  9 10]\n"
     ]
    }
   ],
   "source": [
    "# 1행, 모든 열\n",
    "print(array3[1])\n",
    "# 1 ~ 4-1행, 모든열\n",
    "print(array3[1:4])\n",
    "# 모든 행 3번째 열의  전체\n",
    "print(array3[:, 2])\n",
    "# 2번째 행, 모든 열\n",
    "print(array3[1, :])"
   ]
  },
  {
   "cell_type": "code",
   "execution_count": null,
   "metadata": {},
   "outputs": [],
   "source": []
  }
 ],
 "metadata": {
  "kernelspec": {
   "display_name": "Python 3",
   "language": "python",
   "name": "python3"
  },
  "language_info": {
   "codemirror_mode": {
    "name": "ipython",
    "version": 3
   },
   "file_extension": ".py",
   "mimetype": "text/x-python",
   "name": "python",
   "nbconvert_exporter": "python",
   "pygments_lexer": "ipython3",
   "version": "3.7.6"
  }
 },
 "nbformat": 4,
 "nbformat_minor": 4
}
